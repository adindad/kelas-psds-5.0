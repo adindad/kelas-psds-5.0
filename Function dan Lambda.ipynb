{
  "nbformat": 4,
  "nbformat_minor": 0,
  "metadata": {
    "colab": {
      "provenance": []
    },
    "kernelspec": {
      "name": "python3",
      "display_name": "Python 3"
    },
    "language_info": {
      "name": "python"
    }
  },
  "cells": [
    {
      "cell_type": "markdown",
      "source": [
        "**FUNCTION**"
      ],
      "metadata": {
        "id": "w67BQ6lCesMr"
      }
    },
    {
      "cell_type": "code",
      "source": [
        "def nama_fungsi (argument):\n",
        "  statement_1\n",
        "\n",
        "  statement_n\n",
        "  return returned_value"
      ],
      "metadata": {
        "id": "69bHb9Nyeukh"
      },
      "execution_count": null,
      "outputs": []
    },
    {
      "cell_type": "markdown",
      "source": [
        "argumen dan parameter"
      ],
      "metadata": {
        "id": "MzqFAjPEfmXb"
      }
    },
    {
      "cell_type": "code",
      "execution_count": 1,
      "metadata": {
        "id": "fndhrdfDcGMx",
        "colab": {
          "base_uri": "https://localhost:8080/"
        },
        "outputId": "0835d4ff-0605-4f64-fa84-da96b9c7b65b"
      },
      "outputs": [
        {
          "output_type": "stream",
          "name": "stdout",
          "text": [
            "budi\n"
          ]
        }
      ],
      "source": [
        "def print_nama(nama): # nama adalah parameter\n",
        "  print(nama)\n",
        "print_nama('budi') # budi adalah argumen"
      ]
    },
    {
      "cell_type": "markdown",
      "source": [
        "argumen posisi dan kata kunci"
      ],
      "metadata": {
        "id": "BDUEc585f0MZ"
      }
    },
    {
      "cell_type": "code",
      "source": [
        "def angka(a,b,c):\n",
        "  print(a,b,c)\n",
        "\n",
        "#argumen berdasarkan posisinya\n",
        "angka(1,2,3)\n",
        "\n",
        "#argumen berdasarkan kata kuncinya\n",
        "angka(a=1, b=2, c=3)\n",
        "angka(c=3, b=2, a=1)\n",
        "\n",
        "#catatan : jika sudah diberi kunci maka urutan tidak menjadi penting\n",
        "\n",
        "#campuran antara argumen posisi dan argumen kata kunci\n",
        "angka(1, b=2, c=3)\n",
        "\n",
        "#tidak diijinkan apabila :\n",
        "#1.foo(1,b=2,3) dimana letak argumen posisional setelah argumen kunci\n",
        "#2.foo(1,b=2,a=3) terdapat dua nilai untuk argumen kunci 'a"
      ],
      "metadata": {
        "id": "TJOWXQ0Bf3aC",
        "colab": {
          "base_uri": "https://localhost:8080/"
        },
        "outputId": "906f3a90-152e-4ba6-c518-b7c45ff86c8e"
      },
      "execution_count": 3,
      "outputs": [
        {
          "output_type": "stream",
          "name": "stdout",
          "text": [
            "1 2 3\n",
            "1 2 3\n",
            "1 2 3\n",
            "1 2 3\n"
          ]
        }
      ]
    },
    {
      "cell_type": "markdown",
      "source": [
        "argumen default"
      ],
      "metadata": {
        "id": "NvGCJLt81u02"
      }
    },
    {
      "cell_type": "code",
      "source": [
        "def angka2(a,b,c,d=4):\n",
        "  print(a,b,c,d)\n",
        "\n",
        "angka2(1,2,3,4)\n",
        "angka2(1,b=2,c=3,d=100)\n",
        "\n",
        "#argumen default harus diletakkan terakhir"
      ],
      "metadata": {
        "colab": {
          "base_uri": "https://localhost:8080/"
        },
        "id": "ESDg1TOo1xQ1",
        "outputId": "bee5ba75-b1ce-4f3f-9635-53f825478e7b"
      },
      "execution_count": 5,
      "outputs": [
        {
          "output_type": "stream",
          "name": "stdout",
          "text": [
            "1 2 3 4\n",
            "1 2 3 100\n"
          ]
        }
      ]
    },
    {
      "cell_type": "markdown",
      "source": [
        "praktik membuat fungsi"
      ],
      "metadata": {
        "id": "YAqJdLc8gPqL"
      }
    },
    {
      "cell_type": "code",
      "source": [
        "x = 1\n",
        "y = 2\n",
        "x*y"
      ],
      "metadata": {
        "colab": {
          "base_uri": "https://localhost:8080/"
        },
        "id": "-lK9vja0gUOz",
        "outputId": "7afec025-e760-45fa-882e-8e6f73f26416"
      },
      "execution_count": null,
      "outputs": [
        {
          "output_type": "execute_result",
          "data": {
            "text/plain": [
              "2"
            ]
          },
          "metadata": {},
          "execution_count": 4
        }
      ]
    },
    {
      "cell_type": "code",
      "source": [
        "def penjumlahan(x,y): #input\n",
        "  a = x+y #proses\n",
        "  return a #output\n",
        "\n",
        "penjumlahan(1,2) #menggunakan fungsi"
      ],
      "metadata": {
        "colab": {
          "base_uri": "https://localhost:8080/"
        },
        "id": "8N5rOkgCgXsq",
        "outputId": "a2727f02-0f67-4f24-b047-852fc9c8c7d5"
      },
      "execution_count": null,
      "outputs": [
        {
          "output_type": "execute_result",
          "data": {
            "text/plain": [
              "3"
            ]
          },
          "metadata": {},
          "execution_count": 5
        }
      ]
    },
    {
      "cell_type": "markdown",
      "source": [
        "penjumlahan yang memungkinkan untuk tiga bilangan"
      ],
      "metadata": {
        "id": "GND2569u2RFh"
      }
    },
    {
      "cell_type": "code",
      "source": [
        "def penjumlahan(x,y,z=None):\n",
        "  if (z==None) :\n",
        "    return x+y\n",
        "  else :\n",
        "    return x+y+z\n",
        "\n",
        "print(penjumlahan(1, 2))\n",
        "print(penjumlahan(1,2,3))"
      ],
      "metadata": {
        "id": "k8xn0-ZxghqP",
        "colab": {
          "base_uri": "https://localhost:8080/"
        },
        "outputId": "92b0295b-9a4c-477d-bd15-c27834d38de9"
      },
      "execution_count": 8,
      "outputs": [
        {
          "output_type": "stream",
          "name": "stdout",
          "text": [
            "3\n",
            "6\n"
          ]
        }
      ]
    },
    {
      "cell_type": "markdown",
      "source": [
        "menyimpan hasil fungsi dalam variabel"
      ],
      "metadata": {
        "id": "XDzM2D-h2sON"
      }
    },
    {
      "cell_type": "code",
      "source": [
        "def penjumlahan(x,y):\n",
        "  return x+y\n",
        "\n",
        "a = penjumlahan\n",
        "a(1,2)"
      ],
      "metadata": {
        "colab": {
          "base_uri": "https://localhost:8080/"
        },
        "id": "-ZFT9M_-2vWK",
        "outputId": "9fc138fe-015d-40f9-911c-fc7fd383a3ff"
      },
      "execution_count": 9,
      "outputs": [
        {
          "output_type": "execute_result",
          "data": {
            "text/plain": [
              "3"
            ]
          },
          "metadata": {},
          "execution_count": 9
        }
      ]
    },
    {
      "cell_type": "markdown",
      "source": [
        "LATIHAN 1\n",
        "\n",
        "> buatlah function phytagoras dengan input argumennya panjang tinggi dan alas segitiga untuk menghasilkan output nilai panjang dan sisi miring\n",
        "\n"
      ],
      "metadata": {
        "id": "ZfpplUddhHxJ"
      }
    },
    {
      "cell_type": "code",
      "source": [
        "import math\n",
        "def sisi_miring_segitiga():\n",
        "  alas = 3\n",
        "  tinggi = 4\n",
        "  miring = math.sqrt (alas**2 + tinggi**2)\n",
        "  print(\"sisi miringnya adalah: \", miring)\n",
        "\n",
        "sisi_miring_segitiga()"
      ],
      "metadata": {
        "colab": {
          "base_uri": "https://localhost:8080/"
        },
        "id": "u-AKqREEmAG3",
        "outputId": "bd2277c2-9031-4097-de81-303d8daf4e31"
      },
      "execution_count": null,
      "outputs": [
        {
          "output_type": "stream",
          "name": "stdout",
          "text": [
            "sisi miringnya adalah:  5.0\n"
          ]
        }
      ]
    },
    {
      "cell_type": "markdown",
      "source": [
        "Latihan 2\n",
        "\n",
        "> buatlah function luas permukaan balok dengan input argumennya panjang,lebar,dan tinggi dari balok untuk menghasilkan output nilai luas permukaan balok tersebut\n"
      ],
      "metadata": {
        "id": "93y8Xm3Up5hv"
      }
    },
    {
      "cell_type": "code",
      "source": [
        "def luas_permukaan_balok ():\n",
        "  panjang = 24\n",
        "  lebar = 10\n",
        "  tinggi = 5\n",
        "  luas = (2*(panjang*lebar+panjang*tinggi+lebar*tinggi))\n",
        "  print(\"luas permukaan baloknya adalah: \", luas)\n",
        "\n",
        "luas_permukaan_balok ()"
      ],
      "metadata": {
        "colab": {
          "base_uri": "https://localhost:8080/"
        },
        "id": "FCwrYtPvp5y_",
        "outputId": "efc93bc2-d9e6-4d79-ecab-05307f384a6a"
      },
      "execution_count": null,
      "outputs": [
        {
          "output_type": "stream",
          "name": "stdout",
          "text": [
            "luas permukaan baloknya adalah:  820\n"
          ]
        }
      ]
    },
    {
      "cell_type": "markdown",
      "source": [
        "**LAMBDA**\n",
        "\n"
      ],
      "metadata": {
        "id": "5F4E8Dgzgz_5"
      }
    },
    {
      "cell_type": "code",
      "source": [
        "greeting = lambda name: print(f\"hello,{name}\")\n",
        "sapa = greeting\n",
        "greeting(\"Vicky\")\n",
        "greeting(\"Adinda\")\n",
        "sapa(\"Fadlu\")"
      ],
      "metadata": {
        "colab": {
          "base_uri": "https://localhost:8080/"
        },
        "id": "mKc_vD_83SV8",
        "outputId": "748aaaa2-e5cc-4d92-c667-ec8e637e5a4e"
      },
      "execution_count": 13,
      "outputs": [
        {
          "output_type": "stream",
          "name": "stdout",
          "text": [
            "hello,Vicky\n",
            "hello,Adinda\n",
            "hello,Fadlu\n"
          ]
        }
      ]
    },
    {
      "cell_type": "markdown",
      "source": [
        "penggunaan fungsi lambda"
      ],
      "metadata": {
        "id": "BL5c4_jB3oZw"
      }
    },
    {
      "cell_type": "code",
      "source": [
        "#fungsi lambda untuk menambahkan angka 10 kepada argument input\n",
        "f = lambda x:x+10\n",
        "val1 = f(5)\n",
        "val2 = f(100)\n",
        "print(val1,val2)"
      ],
      "metadata": {
        "colab": {
          "base_uri": "https://localhost:8080/"
        },
        "id": "tpSYUJY63srL",
        "outputId": "ffa1763a-349b-4fae-f995-8b1ee4b7a605"
      },
      "execution_count": 11,
      "outputs": [
        {
          "output_type": "stream",
          "name": "stdout",
          "text": [
            "15 110\n"
          ]
        }
      ]
    },
    {
      "cell_type": "code",
      "source": [
        "#fungsi lambda untuk mengalikan dua argumen input dan menampilkan hasilnya\n",
        "f = lambda x,y:x*y\n",
        "val3 = f(2,10)\n",
        "val4 = f(7,5)\n",
        "print(val3,val4)"
      ],
      "metadata": {
        "colab": {
          "base_uri": "https://localhost:8080/"
        },
        "id": "b3NusbAO37_7",
        "outputId": "8a04109f-90ea-4a84-96cc-701a33eeb9e8"
      },
      "execution_count": 12,
      "outputs": [
        {
          "output_type": "stream",
          "name": "stdout",
          "text": [
            "20 35\n"
          ]
        }
      ]
    },
    {
      "cell_type": "code",
      "source": [
        "def square_sum(x,y):\n",
        "  return x**2 + y**2\n",
        "\n",
        "lambda x,y : x**2 + y**2"
      ],
      "metadata": {
        "id": "Y9bD-XkSg008",
        "colab": {
          "base_uri": "https://localhost:8080/"
        },
        "outputId": "30e47124-abf1-4ffc-a5f9-821efbb23354"
      },
      "execution_count": 16,
      "outputs": [
        {
          "output_type": "execute_result",
          "data": {
            "text/plain": [
              "<function __main__.<lambda>(x, y)>"
            ]
          },
          "metadata": {},
          "execution_count": 16
        }
      ]
    },
    {
      "cell_type": "markdown",
      "source": [
        "eksekusi lambda secara langsung"
      ],
      "metadata": {
        "id": "r7l8GsR6iG1h"
      }
    },
    {
      "cell_type": "code",
      "source": [
        "(lambda x,y : x**2+y**2)(4,6)"
      ],
      "metadata": {
        "colab": {
          "base_uri": "https://localhost:8080/"
        },
        "id": "39QEGilRiLsr",
        "outputId": "46165749-0016-487d-f0b5-c0f400201a99"
      },
      "execution_count": null,
      "outputs": [
        {
          "output_type": "execute_result",
          "data": {
            "text/plain": [
              "52"
            ]
          },
          "metadata": {},
          "execution_count": 10
        }
      ]
    },
    {
      "cell_type": "code",
      "source": [
        "hasil = (lambda x,y : x**2+y**2)(4,6) #agar output tidak ditampilkan"
      ],
      "metadata": {
        "id": "i6CRHJFlidsR"
      },
      "execution_count": null,
      "outputs": []
    },
    {
      "cell_type": "markdown",
      "source": [
        "Latihan 3\n",
        "\n",
        "> buatlah fungsi lambda untuk menghitung luas dari persegi panjang\n",
        "\n"
      ],
      "metadata": {
        "id": "66cUEHBLptke"
      }
    },
    {
      "cell_type": "code",
      "source": [
        "f = lambda panjang,lebar:panjang*lebar\n",
        "luas_persegipanjang = f(12,9)\n",
        "print(luas_persegipanjang)"
      ],
      "metadata": {
        "id": "iAMskGi-pv2K",
        "colab": {
          "base_uri": "https://localhost:8080/"
        },
        "outputId": "b1aee6e2-3757-4005-f235-0ad4947206ad"
      },
      "execution_count": 18,
      "outputs": [
        {
          "output_type": "stream",
          "name": "stdout",
          "text": [
            "108\n"
          ]
        }
      ]
    },
    {
      "cell_type": "markdown",
      "source": [
        "Latihan 4\n",
        "\n",
        "> buatlah fungsi lambda untuk menghitung luas segitiga\n",
        "\n"
      ],
      "metadata": {
        "id": "g6KDUI3c2_Km"
      }
    },
    {
      "cell_type": "code",
      "source": [
        "f = lambda alas,tinggi:0.5*(alas*tinggi)\n",
        "luas_segitiga = f(3,4)\n",
        "print(luas_segitiga)"
      ],
      "metadata": {
        "id": "bqMp3TsCqEkF",
        "colab": {
          "base_uri": "https://localhost:8080/"
        },
        "outputId": "e1488fb9-00ea-4ae2-daea-32f90a061677"
      },
      "execution_count": 20,
      "outputs": [
        {
          "output_type": "stream",
          "name": "stdout",
          "text": [
            "6.0\n"
          ]
        }
      ]
    }
  ]
}