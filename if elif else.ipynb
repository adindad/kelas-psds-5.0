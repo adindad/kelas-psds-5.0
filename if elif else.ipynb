{
 "cells": [
  {
   "cell_type": "markdown",
   "id": "34445d94",
   "metadata": {},
   "source": [
    "# example IF statement"
   ]
  },
  {
   "cell_type": "code",
   "execution_count": 3,
   "id": "a68aa10b",
   "metadata": {},
   "outputs": [
    {
     "name": "stdout",
     "output_type": "stream",
     "text": [
      "3 adalah bilangan positif.\n",
      "pernyataan ini selalu ditampilkan\n",
      "pernyataan ini juga selalu ditampilkan\n"
     ]
    }
   ],
   "source": [
    "angka = 3\n",
    "if angka > 0:\n",
    "    print(angka,\"adalah bilangan positif.\")\n",
    "print(\"pernyataan ini selalu ditampilkan\")\n",
    "\n",
    "angka = -1\n",
    "if angka > 0:\n",
    "    print(angka,\"adalah bilangan positif.\")\n",
    "print(\"pernyataan ini juga selalu ditampilkan\")"
   ]
  },
  {
   "cell_type": "markdown",
   "id": "d7e37ac1",
   "metadata": {},
   "source": [
    "# example IF ELSE statement"
   ]
  },
  {
   "cell_type": "code",
   "execution_count": 5,
   "id": "8b48119d",
   "metadata": {},
   "outputs": [
    {
     "name": "stdout",
     "output_type": "stream",
     "text": [
      "3 bilangan lebih dari atau samadengan 0.\n"
     ]
    }
   ],
   "source": [
    "angka = 3\n",
    "\n",
    "if angka >= 0:\n",
    "    print(angka,\"bilangan lebih dari atau samadengan 0.\")\n",
    "else :\n",
    "    print(\"bilangan kurang dari 0\")"
   ]
  },
  {
   "cell_type": "code",
   "execution_count": 6,
   "id": "524d58fc",
   "metadata": {},
   "outputs": [
    {
     "name": "stdout",
     "output_type": "stream",
     "text": [
      "a dan b bernilai sama\n"
     ]
    }
   ],
   "source": [
    "a = 5\n",
    "b = 5\n",
    "\n",
    "if a==b:\n",
    "    print(\"a dan b bernilai sama\")\n",
    "else:\n",
    "    print(\"a dan b bernilai berbeda\")"
   ]
  },
  {
   "cell_type": "code",
   "execution_count": 7,
   "id": "3026a60f",
   "metadata": {},
   "outputs": [
    {
     "name": "stdout",
     "output_type": "stream",
     "text": [
      "masukkan bilangan pertama:3\n",
      "masukkan bilangan kedua:5\n",
      "bilangan yang lebih besar adalah: 5\n"
     ]
    }
   ],
   "source": [
    "bil1 = int(input(\"masukkan bilangan pertama:\"))\n",
    "bil2 = int(input(\"masukkan bilangan kedua:\"))\n",
    "\n",
    "if bil1>bil2:\n",
    "    bil_lebih_besar = bil1\n",
    "else:\n",
    "    bil_lebih_besar = bil2\n",
    "    \n",
    "print(\"bilangan yang lebih besar adalah:\", bil_lebih_besar)"
   ]
  },
  {
   "cell_type": "markdown",
   "id": "93b3afd3",
   "metadata": {},
   "source": [
    "# example IF ELIF ELSE statement"
   ]
  },
  {
   "cell_type": "code",
   "execution_count": 8,
   "id": "52895ed4",
   "metadata": {},
   "outputs": [
    {
     "name": "stdout",
     "output_type": "stream",
     "text": [
      "bilangan positif\n"
     ]
    }
   ],
   "source": [
    "angka = 3.4\n",
    "\n",
    "if angka > 0:\n",
    "    print(\"bilangan positif\")\n",
    "elif num == 0:\n",
    "    print(\"nol\")\n",
    "else: print(\"bilangan negatif\")"
   ]
  },
  {
   "cell_type": "code",
   "execution_count": 11,
   "id": "91116058",
   "metadata": {},
   "outputs": [
    {
     "name": "stdout",
     "output_type": "stream",
     "text": [
      "x habis dibagi 2\n",
      "--------------------\n",
      "x tidak habis dibagi dua,tiga,ataupun lima\n"
     ]
    }
   ],
   "source": [
    "x = 4\n",
    "if x % 2 == 0:\n",
    "    print(\"x habis dibagi 2\")\n",
    "\n",
    "print('-'*20)\n",
    "    \n",
    "x = 7\n",
    "if x % 2 == 0:\n",
    "    print(\"x habis dibagi dua\")\n",
    "elif x % 3 == 0:\n",
    "    print(\"x habis dibagi tiga\")\n",
    "elif x % 5 == 0:\n",
    "    print(\"x habis dibagi lima\")\n",
    "else:\n",
    "    print(\"x tidak habis dibagi dua,tiga,ataupun lima\")"
   ]
  },
  {
   "cell_type": "code",
   "execution_count": 14,
   "id": "c93f42de",
   "metadata": {},
   "outputs": [
    {
     "name": "stdout",
     "output_type": "stream",
     "text": [
      "masukkan angka : 4\n",
      "bilangan positif\n"
     ]
    }
   ],
   "source": [
    "angka = float(input(\"masukkan angka : \"))\n",
    "if angka >= 0:\n",
    "    if angka == 0:\n",
    "        print(\"nol\")\n",
    "    else:\n",
    "        print(\"bilangan positif\")\n",
    "else:\n",
    "    print(\"bilangan negatif\")"
   ]
  },
  {
   "cell_type": "markdown",
   "id": "67e12f79",
   "metadata": {},
   "source": [
    "# Latihan"
   ]
  },
  {
   "cell_type": "code",
   "execution_count": 7,
   "id": "c25c8302",
   "metadata": {},
   "outputs": [
    {
     "name": "stdout",
     "output_type": "stream",
     "text": [
      "masukkan harga : 120000000\n",
      "harga termasuk mahal\n",
      "------------------------------\n",
      "masukkan harga:5500750\n",
      "selamat, anda mendapat diskon 40%\n",
      "total bayar : Rp. 3300450.0\n"
     ]
    }
   ],
   "source": [
    "mahal_diskon = float(input(\"masukkan harga : \"))\n",
    "if (mahal_diskon >= 100000) and (mahal_diskon < 1000000):\n",
    "     print(\"harga termasuk murah\")\n",
    "else:\n",
    "    print(\"harga termasuk mahal\")\n",
    "    \n",
    "print('-'*30)\n",
    "\n",
    "total_belanja = float(input('masukkan harga:'))\n",
    "if (total_belanja >= 100000) and (total_belanja < 500000):\n",
    "    harga_akhir = total_belanja - (0.1*total_belanja)\n",
    "    print(\"selamat, anda mendapat diskon 10%\")\n",
    "elif (total_belanja >= 500000) and (total_belanja < 1000000):\n",
    "    harga_akhir = total_belanja - (0.2*total_belanja)\n",
    "    print(\"selamat, anda mendapat diskon 20%\")\n",
    "elif (total_belanja >= 1000000) :\n",
    "    harga_akhir = total_belanja - (0.4*total_belanja)\n",
    "    print(\"selamat, anda mendapat diskon 40%\")\n",
    "else:\n",
    "    harga_akhir = total_belanja\n",
    "print(\"total bayar : Rp.\", round(harga_akhir,2))"
   ]
  }
 ],
 "metadata": {
  "kernelspec": {
   "display_name": "Python 3 (ipykernel)",
   "language": "python",
   "name": "python3"
  },
  "language_info": {
   "codemirror_mode": {
    "name": "ipython",
    "version": 3
   },
   "file_extension": ".py",
   "mimetype": "text/x-python",
   "name": "python",
   "nbconvert_exporter": "python",
   "pygments_lexer": "ipython3",
   "version": "3.9.7"
  }
 },
 "nbformat": 4,
 "nbformat_minor": 5
}
