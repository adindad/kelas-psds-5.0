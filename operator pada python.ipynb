{
 "cells": [
  {
   "cell_type": "markdown",
   "id": "7782d8a9",
   "metadata": {},
   "source": [
    "# operator aritmatika"
   ]
  },
  {
   "cell_type": "code",
   "execution_count": 45,
   "id": "bce91eba",
   "metadata": {},
   "outputs": [
    {
     "name": "stdout",
     "output_type": "stream",
     "text": [
      "penjumlahan\n",
      "4\n",
      "--------------------\n",
      "pengurangan\n",
      "-1\n",
      "--------------------\n",
      "perkalian\n",
      "6\n",
      "--------------------\n",
      "pembagian\n",
      "0.6666666666666666\n",
      "--------------------\n",
      "modulus\n",
      "1\n",
      "--------------------\n",
      "perpangkatan\n",
      "8\n",
      "--------------------------------\n",
      "pembagian pembulatan flooring\n",
      "1\n"
     ]
    }
   ],
   "source": [
    "#penjumlahan \n",
    "print('penjumlahan')\n",
    "print(2+2)\n",
    "print('-'*20)\n",
    "\n",
    "#pengurangan\n",
    "print('pengurangan')\n",
    "print(2-3)\n",
    "print('-'*20)\n",
    "\n",
    "#perkalian \n",
    "print('perkalian')\n",
    "print(2*3)\n",
    "print('-'*20)\n",
    "\n",
    "#pembagian\n",
    "print('pembagian')\n",
    "print(2/3)\n",
    "print('-'*20)\n",
    "\n",
    "#perkalian \n",
    "print('modulus')\n",
    "print(3%2)\n",
    "print('-'*20)\n",
    "\n",
    "#perpangkatan \n",
    "print('perpangkatan')\n",
    "print(2**3)\n",
    "print('-'*32)\n",
    "\n",
    "#pembagian dengan hasil pembulatan flooring\n",
    "print('pembagian pembulatan flooring')\n",
    "print(3//2)"
   ]
  },
  {
   "cell_type": "markdown",
   "id": "b52498aa",
   "metadata": {},
   "source": [
    "## latihan operator 1"
   ]
  },
  {
   "cell_type": "code",
   "execution_count": 46,
   "id": "294a7c25",
   "metadata": {},
   "outputs": [
    {
     "name": "stdout",
     "output_type": "stream",
     "text": [
      "penjumlahan\n",
      "111\n",
      "--------------------\n",
      "pengurangan\n",
      "9784\n",
      "--------------------\n",
      "perkalian\n",
      "96\n",
      "--------------------\n",
      "pembagian\n",
      "7.0\n",
      "--------------------\n",
      "modulus\n",
      "5\n",
      "--------------------\n",
      "perpangkatan\n",
      "9227446944279201\n",
      "--------------------------------\n",
      "pembagian pembulatan flooring\n",
      "16\n"
     ]
    }
   ],
   "source": [
    "print('penjumlahan')\n",
    "print(12+99)\n",
    "print('-'*20)\n",
    "\n",
    "print('pengurangan')\n",
    "print(9912-128)\n",
    "print('-'*20)\n",
    "\n",
    "print('perkalian')\n",
    "print(8*12)\n",
    "print('-'*20)\n",
    "\n",
    "print('pembagian')\n",
    "print(693/99)\n",
    "print('-'*20)\n",
    "\n",
    "print('modulus')\n",
    "print(125%8)\n",
    "print('-'*20)\n",
    "\n",
    "print('perpangkatan')\n",
    "print(99**8)\n",
    "print('-'*32)\n",
    "\n",
    "print('pembagian pembulatan flooring')\n",
    "print(129//8)"
   ]
  },
  {
   "cell_type": "markdown",
   "id": "863219cf",
   "metadata": {},
   "source": [
    "# operator assignment"
   ]
  },
  {
   "cell_type": "code",
   "execution_count": 47,
   "id": "81664fbd",
   "metadata": {},
   "outputs": [
    {
     "name": "stdout",
     "output_type": "stream",
     "text": [
      "penjumlahan\n",
      "10\n",
      "10\n",
      "--------------------\n",
      "pengurangan\n",
      "0\n",
      "2\n",
      "--------------------\n",
      "perkalian\n",
      "25\n",
      "15\n",
      "--------------------\n",
      "pembagian\n",
      "1.0\n",
      "1.6666666666666667\n",
      "--------------------\n",
      "modulus\n",
      "0\n",
      "2\n",
      "--------------------\n",
      "perpangkatan\n",
      "3125\n",
      "125\n",
      "--------------------------------\n",
      "pembagian pembulatan flooring\n",
      "1\n",
      "1.6666666666666667\n"
     ]
    }
   ],
   "source": [
    "#penjumlahan \n",
    "print('penjumlahan')\n",
    "x=5\n",
    "x=x+5\n",
    "print(x)\n",
    "x=5\n",
    "x+=5\n",
    "print(x)\n",
    "print('-'*20)\n",
    "\n",
    "#pengurangan\n",
    "print('pengurangan')\n",
    "x=5\n",
    "x=x-5\n",
    "print(x)\n",
    "x=5\n",
    "x-=3\n",
    "print(x)\n",
    "print('-'*20)\n",
    "\n",
    "#perkalian \n",
    "print('perkalian')\n",
    "x=5\n",
    "x=x*5\n",
    "print(x)\n",
    "x=5\n",
    "x*=3\n",
    "print(x)\n",
    "print('-'*20)\n",
    "\n",
    "#pembagian\n",
    "print('pembagian')\n",
    "x=5\n",
    "x=x/5\n",
    "print(x)\n",
    "x=5\n",
    "x/=3\n",
    "print(x)\n",
    "print('-'*20)\n",
    "\n",
    "#perkalian \n",
    "print('modulus')\n",
    "x=5\n",
    "x=x%5\n",
    "print(x)\n",
    "x=5\n",
    "x%=3\n",
    "print(x)\n",
    "print('-'*20)\n",
    "\n",
    "#perpangkatan \n",
    "print('perpangkatan')\n",
    "x=5\n",
    "x=x**5\n",
    "print(x)\n",
    "x=5\n",
    "x**=3\n",
    "print(x)\n",
    "print('-'*32)\n",
    "\n",
    "#pembagian dengan hasil pembulatan flooring\n",
    "print('pembagian pembulatan flooring')\n",
    "x=5\n",
    "x=x//5\n",
    "print(x)\n",
    "x=5\n",
    "x/=3\n",
    "print(x)"
   ]
  },
  {
   "cell_type": "markdown",
   "id": "e1a6aff8",
   "metadata": {},
   "source": [
    "## latihan operator 2"
   ]
  },
  {
   "cell_type": "code",
   "execution_count": 48,
   "id": "b9ce99a4",
   "metadata": {},
   "outputs": [
    {
     "name": "stdout",
     "output_type": "stream",
     "text": [
      "penjumlahan\n",
      "254\n",
      "254\n",
      "--------------------\n",
      "pengurangan\n",
      "27\n",
      "27\n",
      "--------------------\n",
      "perkalian\n",
      "2548\n",
      "2548\n",
      "--------------------\n",
      "pembagian\n",
      "3.2564102564102564\n",
      "3.2564102564102564\n",
      "--------------------\n",
      "modulus\n",
      "89\n",
      "89\n",
      "--------------------\n",
      "perpangkatan\n",
      "6188965056\n",
      "6188965056\n",
      "--------------------------------\n",
      "pembagian pembulatan flooring\n",
      "79\n",
      "79\n"
     ]
    }
   ],
   "source": [
    "print('penjumlahan')\n",
    "a=98\n",
    "v=a+156\n",
    "print(v)\n",
    "\n",
    "a=98\n",
    "a+=156\n",
    "print(a)\n",
    "print('-'*20)\n",
    "\n",
    "print('pengurangan')\n",
    "a=99\n",
    "v=a-72\n",
    "print(v)\n",
    "\n",
    "a=99\n",
    "a-=72\n",
    "print(a)\n",
    "print('-'*20)\n",
    "\n",
    "print('perkalian')\n",
    "a=1274\n",
    "v=a*2\n",
    "print(v)\n",
    "\n",
    "a=1274\n",
    "a*=2\n",
    "print(a)\n",
    "print('-'*20)\n",
    "\n",
    "print('pembagian')\n",
    "a=127\n",
    "v=a/39\n",
    "print(v)\n",
    "\n",
    "a=127\n",
    "a/=39\n",
    "print(a)\n",
    "print('-'*20)\n",
    "\n",
    "print('modulus')\n",
    "a=18765\n",
    "v=a%92\n",
    "print(v)\n",
    "\n",
    "a=18765\n",
    "a%=92\n",
    "print(a)\n",
    "print('-'*20)\n",
    "\n",
    "print('perpangkatan')\n",
    "a=1836\n",
    "v=a**3\n",
    "print(v)\n",
    "\n",
    "a=1836\n",
    "a**=3\n",
    "print(a)\n",
    "print('-'*32)\n",
    "\n",
    "print('pembagian pembulatan flooring')\n",
    "a=874\n",
    "v=a//11\n",
    "print(v)\n",
    "\n",
    "a=874\n",
    "a//=11\n",
    "print(a)"
   ]
  },
  {
   "cell_type": "markdown",
   "id": "ffc6a36a",
   "metadata": {},
   "source": [
    "# operator pembanding"
   ]
  },
  {
   "cell_type": "code",
   "execution_count": 13,
   "id": "4baa798a",
   "metadata": {},
   "outputs": [
    {
     "name": "stdout",
     "output_type": "stream",
     "text": [
      "True\n",
      "False\n",
      "False\n",
      "False\n",
      "True\n",
      "True\n"
     ]
    }
   ],
   "source": [
    "print(2==2)\n",
    "print(2!=2)\n",
    "print(2>2)\n",
    "print(2<2)\n",
    "print(2>=2)\n",
    "print(2<=2)"
   ]
  },
  {
   "cell_type": "markdown",
   "id": "c3f4dea5",
   "metadata": {},
   "source": [
    "## latihan operator 3"
   ]
  },
  {
   "cell_type": "code",
   "execution_count": 24,
   "id": "aec530b7",
   "metadata": {},
   "outputs": [
    {
     "name": "stdout",
     "output_type": "stream",
     "text": [
      "False\n",
      "True\n",
      "True\n",
      "True\n",
      "True\n",
      "False\n"
     ]
    }
   ],
   "source": [
    "a = (1299==2347)\n",
    "print(a)\n",
    "\n",
    "b = (23567!=6789)\n",
    "print(b)\n",
    "\n",
    "c = (129>27)\n",
    "print(c)\n",
    "\n",
    "d = (12<947)\n",
    "print(d)\n",
    "\n",
    "e = (16527>=13478)\n",
    "print(e)\n",
    "\n",
    "f = (156<=82)\n",
    "print(f)"
   ]
  },
  {
   "cell_type": "markdown",
   "id": "232680ce",
   "metadata": {},
   "source": [
    "# operator logika"
   ]
  },
  {
   "cell_type": "code",
   "execution_count": 6,
   "id": "25f1db6f",
   "metadata": {},
   "outputs": [
    {
     "name": "stdout",
     "output_type": "stream",
     "text": [
      "False\n",
      "False\n",
      "True\n"
     ]
    }
   ],
   "source": [
    "print(True and False)\n",
    "print(False or False)\n",
    "print(not False and True)"
   ]
  },
  {
   "cell_type": "markdown",
   "id": "e66db249",
   "metadata": {},
   "source": [
    "## latihan operator 4 "
   ]
  },
  {
   "cell_type": "code",
   "execution_count": 27,
   "id": "b12dbc19",
   "metadata": {},
   "outputs": [
    {
     "name": "stdout",
     "output_type": "stream",
     "text": [
      "True\n",
      "True\n",
      "False\n",
      "False\n"
     ]
    }
   ],
   "source": [
    "x = True\n",
    "y = False\n",
    "print(x and x)\n",
    "print(x or y)\n",
    "print(not x)\n",
    "print(not x and x or y)"
   ]
  },
  {
   "cell_type": "markdown",
   "id": "2c60916a",
   "metadata": {},
   "source": [
    "# operator membership/keanggotaan"
   ]
  },
  {
   "cell_type": "code",
   "execution_count": 43,
   "id": "dccef531",
   "metadata": {},
   "outputs": [
    {
     "name": "stdout",
     "output_type": "stream",
     "text": [
      "True\n",
      "---------\n",
      "True\n"
     ]
    }
   ],
   "source": [
    "a={1,2,3,4,5,6}\n",
    "b=2\n",
    "print(b in a) \n",
    "\n",
    "print('-'*9)\n",
    "\n",
    "a={1,2,3,4,5,6}\n",
    "b=7\n",
    "print(b not in a) "
   ]
  },
  {
   "cell_type": "markdown",
   "id": "9666c1e5",
   "metadata": {},
   "source": [
    "## latihan operator 5"
   ]
  },
  {
   "cell_type": "code",
   "execution_count": 42,
   "id": "b55b8359",
   "metadata": {},
   "outputs": [
    {
     "name": "stdout",
     "output_type": "stream",
     "text": [
      "True\n",
      "---------\n",
      "False\n",
      "---------\n",
      "False\n",
      "---------\n",
      "True\n"
     ]
    }
   ],
   "source": [
    "p={279,102,176,1852,6378,195,901}\n",
    "q=102\n",
    "print(q in p) \n",
    "\n",
    "print('-'*9)\n",
    "\n",
    "p={208,9312,7381,127,1973,10038}\n",
    "q=208\n",
    "print(q not in p) \n",
    "\n",
    "print('-'*9)\n",
    "\n",
    "p={279,280,281,282,283,284,285,286}\n",
    "q=199\n",
    "print(q in p) \n",
    "\n",
    "print('-'*9)\n",
    "\n",
    "p={279,280,281,282,283,284,285,286}\n",
    "q=212\n",
    "print(q not in p) \n"
   ]
  },
  {
   "cell_type": "markdown",
   "id": "c8d764b4",
   "metadata": {},
   "source": [
    "# variabel"
   ]
  },
  {
   "cell_type": "code",
   "execution_count": 2,
   "id": "d81103c2",
   "metadata": {},
   "outputs": [],
   "source": [
    "kalimat = 'ini adalah variabel'\n",
    "bilangan1 = 4\n",
    "bilangan2 = 2.5\n",
    "bilangan3 = True\n",
    "bilangan4 = 1j + 4 "
   ]
  },
  {
   "cell_type": "code",
   "execution_count": 3,
   "id": "6c969e80",
   "metadata": {},
   "outputs": [
    {
     "name": "stdout",
     "output_type": "stream",
     "text": [
      "ini adalah variabel\n",
      "4\n",
      "2.5\n",
      "True\n",
      "(4+1j)\n"
     ]
    }
   ],
   "source": [
    "print(kalimat)\n",
    "print(bilangan1)\n",
    "print(bilangan2)\n",
    "print(bilangan3)\n",
    "print(bilangan4)"
   ]
  },
  {
   "cell_type": "markdown",
   "id": "c0665fde",
   "metadata": {},
   "source": [
    "## latihan 1 "
   ]
  },
  {
   "cell_type": "code",
   "execution_count": 4,
   "id": "303df642",
   "metadata": {},
   "outputs": [],
   "source": [
    "fiersa = 'seperti kita dulu'\n",
    "spesial = 1299\n",
    "ipk = 3.83\n",
    "wanita = True\n",
    "pria = False\n",
    "campur = 12 + 9j"
   ]
  },
  {
   "cell_type": "code",
   "execution_count": 5,
   "id": "54acf1e0",
   "metadata": {},
   "outputs": [
    {
     "name": "stdout",
     "output_type": "stream",
     "text": [
      "seperti kita dulu\n",
      "1299\n",
      "3.83\n",
      "True\n",
      "False\n",
      "(12+9j)\n"
     ]
    }
   ],
   "source": [
    "print(fiersa)\n",
    "print(spesial)\n",
    "print(ipk)\n",
    "print(wanita)\n",
    "print(pria)\n",
    "print(campur)"
   ]
  },
  {
   "cell_type": "markdown",
   "id": "ecdcbb19",
   "metadata": {},
   "source": [
    "# tipe data"
   ]
  },
  {
   "cell_type": "code",
   "execution_count": 10,
   "id": "09415447",
   "metadata": {},
   "outputs": [
    {
     "name": "stdout",
     "output_type": "stream",
     "text": [
      "<class 'str'>\n",
      "<class 'int'>\n",
      "<class 'float'>\n",
      "<class 'bool'>\n",
      "<class 'complex'>\n"
     ]
    }
   ],
   "source": [
    "print(type(kalimat))\n",
    "print(type(bilangan1))\n",
    "print(type(bilangan2))\n",
    "print(type(bilangan3))\n",
    "print(type(bilangan4))"
   ]
  },
  {
   "cell_type": "markdown",
   "id": "ef50b7f8",
   "metadata": {},
   "source": [
    "## latihan operator 6"
   ]
  },
  {
   "cell_type": "code",
   "execution_count": 6,
   "id": "f432536d",
   "metadata": {},
   "outputs": [
    {
     "name": "stdout",
     "output_type": "stream",
     "text": [
      "<class 'str'>\n",
      "<class 'int'>\n",
      "<class 'float'>\n",
      "<class 'bool'>\n",
      "<class 'bool'>\n",
      "<class 'complex'>\n"
     ]
    }
   ],
   "source": [
    "print(type(fiersa))\n",
    "print(type(spesial))\n",
    "print(type(ipk))\n",
    "print(type(wanita))\n",
    "print(type(pria))\n",
    "print(type(campur))"
   ]
  },
  {
   "cell_type": "markdown",
   "id": "c7dc744d",
   "metadata": {},
   "source": [
    "# konversi tipe data"
   ]
  },
  {
   "cell_type": "code",
   "execution_count": 15,
   "id": "09bc181e",
   "metadata": {},
   "outputs": [
    {
     "name": "stdout",
     "output_type": "stream",
     "text": [
      "2\n",
      "1\n",
      "--------------------\n",
      "4\n",
      "2.5\n",
      "True\n",
      "--------------------\n",
      "4.0\n",
      "1.0\n",
      "--------------------\n",
      "True\n",
      "True\n",
      "--------------------\n",
      "(4+0j)\n",
      "(2.5+0j)\n",
      "(1+0j)\n"
     ]
    }
   ],
   "source": [
    "#integer : bilangan bulat\n",
    "print(int(bilangan2))\n",
    "print(int(bilangan3))\n",
    "print('-'*20)\n",
    "\n",
    "#string : kalimat\n",
    "print(str(bilangan1))\n",
    "print(str(bilangan2))\n",
    "print(str(bilangan3))\n",
    "print('-'*20)\n",
    "\n",
    "#float : bilangan desimal\n",
    "print(float(bilangan1))\n",
    "print(float(bilangan3))\n",
    "print('-'*20)\n",
    "\n",
    "#boolean : terdiri dari true false\n",
    "print(bool(bilangan1))\n",
    "print(bool(bilangan2))\n",
    "print('-'*20)\n",
    "\n",
    "#complex : merupakan bilangan kompleks / gabungan\n",
    "print(complex(bilangan1))\n",
    "print(complex(bilangan2))\n",
    "print(complex(bilangan3))"
   ]
  },
  {
   "cell_type": "markdown",
   "id": "0a439e59",
   "metadata": {},
   "source": [
    "## latihan 3"
   ]
  },
  {
   "cell_type": "code",
   "execution_count": 7,
   "id": "ed6cf0a4",
   "metadata": {},
   "outputs": [
    {
     "name": "stdout",
     "output_type": "stream",
     "text": [
      "3\n",
      "1\n",
      "--------------------\n",
      "seperti kita dulu\n",
      "3.83\n",
      "True\n",
      "--------------------\n",
      "1299.0\n",
      "3.83\n",
      "--------------------\n",
      "True\n",
      "True\n",
      "--------------------\n",
      "(1299+0j)\n",
      "(3.83+0j)\n",
      "(1+0j)\n"
     ]
    }
   ],
   "source": [
    "print(int(ipk))\n",
    "print(int(wanita))\n",
    "print('-'*20)\n",
    "\n",
    "print(str(fiersa))\n",
    "print(str(ipk))\n",
    "print(str(wanita))\n",
    "print('-'*20)\n",
    "\n",
    "print(float(spesial))\n",
    "print(float(ipk))\n",
    "print('-'*20)\n",
    "\n",
    "print(bool(spesial))\n",
    "print(bool(ipk))\n",
    "print('-'*20)\n",
    "\n",
    "print(complex(spesial))\n",
    "print(complex(ipk))\n",
    "print(complex(wanita))"
   ]
  }
 ],
 "metadata": {
  "kernelspec": {
   "display_name": "Python 3 (ipykernel)",
   "language": "python",
   "name": "python3"
  },
  "language_info": {
   "codemirror_mode": {
    "name": "ipython",
    "version": 3
   },
   "file_extension": ".py",
   "mimetype": "text/x-python",
   "name": "python",
   "nbconvert_exporter": "python",
   "pygments_lexer": "ipython3",
   "version": "3.9.7"
  }
 },
 "nbformat": 4,
 "nbformat_minor": 5
}
