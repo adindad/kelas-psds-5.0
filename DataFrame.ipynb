{
  "nbformat": 4,
  "nbformat_minor": 0,
  "metadata": {
    "colab": {
      "provenance": []
    },
    "kernelspec": {
      "name": "python3",
      "display_name": "Python 3"
    },
    "language_info": {
      "name": "python"
    }
  },
  "cells": [
    {
      "cell_type": "code",
      "execution_count": 2,
      "metadata": {
        "id": "esUcoztuvhH4"
      },
      "outputs": [],
      "source": [
        "import pandas as pd"
      ]
    },
    {
      "cell_type": "code",
      "source": [
        "#membuat series of int (s1) dan series of string (s2)\n",
        "s1 = pd.Series([1,2,3,4,5,6])\n",
        "s2 = pd.Series([\"a\",\"b\",\"c\",\"d\",\"e\",\"f\"])\n",
        "#menerapkan metode append\n",
        "s1_append_s2 = s1.append(s2)\n",
        "print(\"Series - append:\\n\",s1_append_s2)"
      ],
      "metadata": {
        "colab": {
          "base_uri": "https://localhost:8080/"
        },
        "id": "cdMqV6rUwcFy",
        "outputId": "3dd6664c-4b08-4072-defe-b630173cbcb3"
      },
      "execution_count": 3,
      "outputs": [
        {
          "output_type": "stream",
          "name": "stdout",
          "text": [
            "Series - append:\n",
            " 0    1\n",
            "1    2\n",
            "2    3\n",
            "3    4\n",
            "4    5\n",
            "5    6\n",
            "0    a\n",
            "1    b\n",
            "2    c\n",
            "3    d\n",
            "4    e\n",
            "5    f\n",
            "dtype: object\n"
          ]
        },
        {
          "output_type": "stream",
          "name": "stderr",
          "text": [
            "<ipython-input-3-47ae491e439b>:5: FutureWarning: The series.append method is deprecated and will be removed from pandas in a future version. Use pandas.concat instead.\n",
            "  s1_append_s2 = s1.append(s2)\n"
          ]
        }
      ]
    },
    {
      "cell_type": "code",
      "source": [
        "#buat dataframe df1 dan df2\n",
        "df1 = pd.DataFrame({'a':[1,2],'b':[3,4]})\n",
        "print(\"df1:\\n\",df1)\n",
        "df2 = pd.DataFrame({'b':[1,2],'a':[3,4]})\n",
        "print(\"df2:\\n\",df2)\n",
        "#terapkan metode append\n",
        "df1_append_df2 = df1.append(df2)\n",
        "print(\"DataFrame - append:\\n\", df1_append_df2)"
      ],
      "metadata": {
        "colab": {
          "base_uri": "https://localhost:8080/"
        },
        "id": "hIh0d_7Sz7Fw",
        "outputId": "6a525dbf-8a37-4912-83e9-f3b6595fc35f"
      },
      "execution_count": 5,
      "outputs": [
        {
          "output_type": "stream",
          "name": "stdout",
          "text": [
            "df1:\n",
            "    a  b\n",
            "0  1  3\n",
            "1  2  4\n",
            "df2:\n",
            "    b  a\n",
            "0  1  3\n",
            "1  2  4\n",
            "DataFrame - append:\n",
            "    a  b\n",
            "0  1  3\n",
            "1  2  4\n",
            "0  3  1\n",
            "1  4  2\n"
          ]
        },
        {
          "output_type": "stream",
          "name": "stderr",
          "text": [
            "<ipython-input-5-d87fdb4a6531>:7: FutureWarning: The frame.append method is deprecated and will be removed from pandas in a future version. Use pandas.concat instead.\n",
            "  df1_append_df2 = df1.append(df2)\n"
          ]
        }
      ]
    },
    {
      "cell_type": "code",
      "source": [
        "#membuat dataframe df1 dan df2\n",
        "df1 = pd.DataFrame({'a':[1,2],'b':[3,4]})\n",
        "print(\"df1:\\n\",df1)\n",
        "df2 = pd.DataFrame({'b':[1,2],'a':[3,4]})\n",
        "print(\"df2:\\n\",df2)\n",
        "#terapkan method concat row-wise\n",
        "row_wise_concat = pd.concat([df1,df2])\n",
        "print(\"Row-wise - concat:\\n\",row_wise_concat)"
      ],
      "metadata": {
        "colab": {
          "base_uri": "https://localhost:8080/"
        },
        "id": "iFzCpaDe0nDL",
        "outputId": "c6411254-c422-43b8-fae5-75aed10ab2e2"
      },
      "execution_count": 9,
      "outputs": [
        {
          "output_type": "stream",
          "name": "stdout",
          "text": [
            "df1:\n",
            "    a  b\n",
            "0  1  3\n",
            "1  2  4\n",
            "df2:\n",
            "    b  a\n",
            "0  1  3\n",
            "1  2  4\n",
            "Row-wise - concat:\n",
            "    a  b\n",
            "0  1  3\n",
            "1  2  4\n",
            "0  3  1\n",
            "1  4  2\n"
          ]
        }
      ]
    },
    {
      "cell_type": "code",
      "source": [
        "#terapkan method concat column-wise\n",
        "col_wise_concat = pd.concat([df1,df2], axis=1)\n",
        "print(\"Column-wise - concat:\\n,col_wise_concat\")"
      ],
      "metadata": {
        "colab": {
          "base_uri": "https://localhost:8080/"
        },
        "id": "vlegx-rh1mEp",
        "outputId": "e44623d7-656c-47eb-fd91-e1b76eadd64c"
      },
      "execution_count": 10,
      "outputs": [
        {
          "output_type": "stream",
          "name": "stdout",
          "text": [
            "Column-wise - concat:\n",
            ",col_wise_concat\n"
          ]
        }
      ]
    },
    {
      "cell_type": "code",
      "source": [
        "#penambahan identifier --> membentuk hasil penggabungan multiindex\n",
        "multiindex_concat = pd.concat([df1,df2], axis=0,keys=['df1','df2'])\n",
        "print(\"Multiindex - concat:\\n\", multiindex_concat)"
      ],
      "metadata": {
        "colab": {
          "base_uri": "https://localhost:8080/"
        },
        "id": "efpVfvtH17tS",
        "outputId": "bd81e97e-a5d6-4efc-c011-1c087cfb5083"
      },
      "execution_count": 11,
      "outputs": [
        {
          "output_type": "stream",
          "name": "stdout",
          "text": [
            "Multiindex - concat:\n",
            "        a  b\n",
            "df1 0  1  3\n",
            "    1  2  4\n",
            "df2 0  3  1\n",
            "    1  4  2\n"
          ]
        }
      ]
    },
    {
      "cell_type": "code",
      "source": [
        "#membuat dataframe df1 dan df2\n",
        "df1 = pd.DataFrame({\n",
        "    'key':['k1','k2','k3','k4','k5'],\n",
        "    'val1':[200,500,0,500,100],\n",
        "    'val2':[30,50,100,20,10]\n",
        "})\n",
        "print(\"df1:\\n\",df1)\n",
        "df2 = pd.DataFrame({\n",
        "    'key':['k1','k3','k5','k7','k9'],\n",
        "    'val3':[1,2,3,4,5],\n",
        "    'val4':[6,7,8,9,10]\n",
        "})\n",
        "print(\"df2:\\n\",df2)"
      ],
      "metadata": {
        "colab": {
          "base_uri": "https://localhost:8080/"
        },
        "id": "IsWmivvc2lvU",
        "outputId": "4f2a1777-35fd-409c-86f4-5ea99fcc1e50"
      },
      "execution_count": 13,
      "outputs": [
        {
          "output_type": "stream",
          "name": "stdout",
          "text": [
            "df1:\n",
            "   key  val1  val2\n",
            "0  k1   200    30\n",
            "1  k2   500    50\n",
            "2  k3     0   100\n",
            "3  k4   500    20\n",
            "4  k5   100    10\n",
            "df2:\n",
            "   key  val3  val4\n",
            "0  k1     1     6\n",
            "1  k3     2     7\n",
            "2  k5     3     8\n",
            "3  k7     4     9\n",
            "4  k9     5    10\n"
          ]
        }
      ]
    },
    {
      "cell_type": "code",
      "source": [
        "#merge yang ekivalen dengan SQL left join\n",
        "merge_df_left = pd.merge(left=df1, right=df2, how='left', left_on='key',right_on='key')\n",
        "print('Merge - Left:\\n',merge_df_left)"
      ],
      "metadata": {
        "colab": {
          "base_uri": "https://localhost:8080/"
        },
        "id": "VCenSIX-3syq",
        "outputId": "c2eff443-46e2-4243-a86e-1c188626c87c"
      },
      "execution_count": 14,
      "outputs": [
        {
          "output_type": "stream",
          "name": "stdout",
          "text": [
            "Merge - Left:\n",
            "   key  val1  val2  val3  val4\n",
            "0  k1   200    30   1.0   6.0\n",
            "1  k2   500    50   NaN   NaN\n",
            "2  k3     0   100   2.0   7.0\n",
            "3  k4   500    20   NaN   NaN\n",
            "4  k5   100    10   3.0   8.0\n"
          ]
        }
      ]
    },
    {
      "cell_type": "code",
      "source": [
        "#merge yang ekivalen dengan SQL right join\n",
        "merge_df_right = pd.merge(left=df1, right=df2, how='right', left_on='key',right_on='key')\n",
        "print('Merge - Right:\\n',merge_df_right)"
      ],
      "metadata": {
        "colab": {
          "base_uri": "https://localhost:8080/"
        },
        "id": "YcPRkXLE5qBK",
        "outputId": "2414a5f4-53a5-4d6d-be9b-ba85e8f9f21f"
      },
      "execution_count": 15,
      "outputs": [
        {
          "output_type": "stream",
          "name": "stdout",
          "text": [
            "Merge - Right:\n",
            "   key   val1   val2  val3  val4\n",
            "0  k1  200.0   30.0     1     6\n",
            "1  k3    0.0  100.0     2     7\n",
            "2  k5  100.0   10.0     3     8\n",
            "3  k7    NaN    NaN     4     9\n",
            "4  k9    NaN    NaN     5    10\n"
          ]
        }
      ]
    },
    {
      "cell_type": "code",
      "source": [
        "#merge yang ekivalen dengan SQL inner join\n",
        "merge_df_inner = pd.merge(left=df1, right=df2, how='inner', left_on='key',right_on='key')\n",
        "print('Merge - Left:\\n',merge_df_inner)"
      ],
      "metadata": {
        "colab": {
          "base_uri": "https://localhost:8080/"
        },
        "id": "TFhniqYf4HRL",
        "outputId": "a0b0f85f-9b3d-4845-8faa-e79dccc31648"
      },
      "execution_count": 16,
      "outputs": [
        {
          "output_type": "stream",
          "name": "stdout",
          "text": [
            "Merge - Left:\n",
            "   key  val1  val2  val3  val4\n",
            "0  k1   200    30     1     6\n",
            "1  k3     0   100     2     7\n",
            "2  k5   100    10     3     8\n"
          ]
        }
      ]
    },
    {
      "cell_type": "code",
      "source": [
        "#merge yang ekivalen dengan SQL outer join\n",
        "merge_df_outer = pd.merge(left=df1, right=df2, how='outer', left_on='key',right_on='key')\n",
        "print('Merge - Left:\\n',merge_df_outer)"
      ],
      "metadata": {
        "colab": {
          "base_uri": "https://localhost:8080/"
        },
        "id": "y3FuW2gL565o",
        "outputId": "7cc88954-5e79-401b-afe6-4c06ffbec136"
      },
      "execution_count": 17,
      "outputs": [
        {
          "output_type": "stream",
          "name": "stdout",
          "text": [
            "Merge - Left:\n",
            "   key   val1   val2  val3  val4\n",
            "0  k1  200.0   30.0   1.0   6.0\n",
            "1  k2  500.0   50.0   NaN   NaN\n",
            "2  k3    0.0  100.0   2.0   7.0\n",
            "3  k4  500.0   20.0   NaN   NaN\n",
            "4  k5  100.0   10.0   3.0   8.0\n",
            "5  k7    NaN    NaN   4.0   9.0\n",
            "6  k9    NaN    NaN   5.0  10.0\n"
          ]
        }
      ]
    },
    {
      "cell_type": "code",
      "source": [
        "#membuat dataframe df1 dan df2\n",
        "df1 = pd.DataFrame({\n",
        "    'key':['k1','k2','k3','k4','k5'],\n",
        "    'val1':[200,500,0,500,100],\n",
        "    'val2':[30,50,100,20,10]\n",
        "}).set_index(['key','val2'])\n",
        "print('DataFrame 1:\\n',df1)\n",
        "df2 = pd.DataFrame({\n",
        "    'key':['k1','k3','k5','k7','k9'],\n",
        "    'val3':[1,2,3,4,5],\n",
        "    'val4':[6,7,8,9,10]\n",
        "}).set_index(['key','val3'])\n",
        "print('DataFrame 2:\\n',df2)"
      ],
      "metadata": {
        "colab": {
          "base_uri": "https://localhost:8080/"
        },
        "id": "LmeMH7ah6Jbg",
        "outputId": "ae024d7b-4644-4784-cf28-490d50bd976c"
      },
      "execution_count": 18,
      "outputs": [
        {
          "output_type": "stream",
          "name": "stdout",
          "text": [
            "DataFrame 1:\n",
            "           val1\n",
            "key val2      \n",
            "k1  30     200\n",
            "k2  50     500\n",
            "k3  100      0\n",
            "k4  20     500\n",
            "k5  10     100\n",
            "DataFrame 2:\n",
            "           val4\n",
            "key val3      \n",
            "k1  1        6\n",
            "k3  2        7\n",
            "k5  3        8\n",
            "k7  4        9\n",
            "k9  5       10\n"
          ]
        }
      ]
    },
    {
      "cell_type": "code",
      "source": [
        "#merge dataframe yang memiliki multi index\n",
        "df_merge = pd.merge(df1.reset_index(),df2.reset_index())\n",
        "print('Merging dataframe:\\n',df_merge)"
      ],
      "metadata": {
        "colab": {
          "base_uri": "https://localhost:8080/"
        },
        "id": "V4Gk1yqR7Dxh",
        "outputId": "9219783a-14b8-45a4-f25d-9f6179d1a65d"
      },
      "execution_count": 19,
      "outputs": [
        {
          "output_type": "stream",
          "name": "stdout",
          "text": [
            "Merging dataframe:\n",
            "   key  val2  val1  val3  val4\n",
            "0  k1    30   200     1     6\n",
            "1  k3   100     0     2     7\n",
            "2  k5    10   100     3     8\n"
          ]
        }
      ]
    },
    {
      "cell_type": "code",
      "source": [
        "#buat dataframe df1 dan df2\n",
        "df1 = pd.DataFrame({\n",
        "    'key':['k1','k2','k3','k4','k5'],\n",
        "    'val1':[200,500,0,500,100],\n",
        "    'val2':[30,50,100,20,10]\n",
        "})\n",
        "print(\"df1:\\n\",df1)\n",
        "df2 = pd.DataFrame({\n",
        "    'key':['k1','k3','k5','k7','k9'],\n",
        "    'val3':[1,2,3,4,5],\n",
        "    'val4':[6,7,8,9,10]\n",
        "})\n",
        "#penerapan join dengan menggunakan set_index dan keyword low\n",
        "#df1.join(df2) akan error"
      ],
      "metadata": {
        "colab": {
          "base_uri": "https://localhost:8080/"
        },
        "id": "_eY2a-Bq7b53",
        "outputId": "9300231e-a7dd-403f-e153-2a9d7823157e"
      },
      "execution_count": 22,
      "outputs": [
        {
          "output_type": "stream",
          "name": "stdout",
          "text": [
            "df1:\n",
            "   key  val1  val2\n",
            "0  k1   200    30\n",
            "1  k2   500    50\n",
            "2  k3     0   100\n",
            "3  k4   500    20\n",
            "4  k5   100    10\n"
          ]
        }
      ]
    },
    {
      "cell_type": "code",
      "source": [
        "print(df1.set_index('key').join(df2.set_index('key')))"
      ],
      "metadata": {
        "colab": {
          "base_uri": "https://localhost:8080/"
        },
        "id": "5TDIY21r7yf4",
        "outputId": "f63c642a-cf39-4f88-dc93-ca8ca36d3806"
      },
      "execution_count": 23,
      "outputs": [
        {
          "output_type": "stream",
          "name": "stdout",
          "text": [
            "     val1  val2  val3  val4\n",
            "key                        \n",
            "k1    200    30   1.0   6.0\n",
            "k2    500    50   NaN   NaN\n",
            "k3      0   100   2.0   7.0\n",
            "k4    500    20   NaN   NaN\n",
            "k5    100    10   3.0   8.0\n"
          ]
        }
      ]
    },
    {
      "cell_type": "code",
      "source": [
        "join_df = df1.set_index('key').join(df2.set_index('key'),how='inner')\n",
        "print(join_df)"
      ],
      "metadata": {
        "colab": {
          "base_uri": "https://localhost:8080/"
        },
        "id": "NaZHgPVP8DEO",
        "outputId": "61a219fe-0037-4eb1-d041-746694fb345e"
      },
      "execution_count": 24,
      "outputs": [
        {
          "output_type": "stream",
          "name": "stdout",
          "text": [
            "     val1  val2  val3  val4\n",
            "key                        \n",
            "k1    200    30     1     6\n",
            "k3      0   100     2     7\n",
            "k5    100    10     3     8\n"
          ]
        }
      ]
    }
  ]
}