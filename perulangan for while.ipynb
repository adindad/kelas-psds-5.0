{
 "cells": [
  {
   "cell_type": "markdown",
   "id": "831970c7",
   "metadata": {},
   "source": [
    "# looping/perulangan"
   ]
  },
  {
   "cell_type": "raw",
   "id": "5d333392",
   "metadata": {},
   "source": [
    "python menyediakan dua statement untuk melakukan proses perulangan yaitu for dan while. diantara keuda statement ini, secara umum for lebih banyak digunakan daripada while"
   ]
  },
  {
   "cell_type": "markdown",
   "id": "e0c4a43c",
   "metadata": {},
   "source": [
    "# for loop"
   ]
  },
  {
   "cell_type": "raw",
   "id": "a7aedfa4",
   "metadata": {},
   "source": [
    "perulangan for digunakan untuk melakukan iterasi di dalam sequence seperti list, tuple, string, dan array atau objek yang dapat diiterasi lainnya."
   ]
  },
  {
   "cell_type": "markdown",
   "id": "f5978bde",
   "metadata": {},
   "source": [
    "# example for loop"
   ]
  },
  {
   "cell_type": "code",
   "execution_count": 1,
   "id": "284edb49",
   "metadata": {},
   "outputs": [
    {
     "name": "stdout",
     "output_type": "stream",
     "text": [
      "27\n"
     ]
    }
   ],
   "source": [
    "# program untuk menghitung jumlah semua angka dalam sebuah list \n",
    "L1 = [2,4,5,7,9]\n",
    "jumlah = 0\n",
    "\n",
    "#iterasi di dalam list\n",
    "for i in L1:\n",
    "    jumlah = jumlah + i \n",
    "    \n",
    "print(jumlah)"
   ]
  },
  {
   "cell_type": "code",
   "execution_count": 2,
   "id": "826be3eb",
   "metadata": {},
   "outputs": [
    {
     "name": "stdout",
     "output_type": "stream",
     "text": [
      "teh\n",
      "boba\n",
      "kopi\n",
      "susu\n"
     ]
    }
   ],
   "source": [
    "# program untuk melakukan iterasi di dalam list melalui indeks\n",
    "minuman = [\"teh\",\"boba\",\"kopi\",\"susu\"]\n",
    "p = len(minuman)\n",
    "\n",
    "#iterasi di dalam list melalui indeks\n",
    "for i in range(p):\n",
    "    print(minuman[i])"
   ]
  },
  {
   "cell_type": "code",
   "execution_count": 3,
   "id": "c825dca7",
   "metadata": {},
   "outputs": [
    {
     "name": "stdout",
     "output_type": "stream",
     "text": [
      "teh\n",
      "boba\n",
      "kopi\n",
      "susu\n",
      "elemen sudah habis\n"
     ]
    }
   ],
   "source": [
    "# contoh for loop menggunakan else\n",
    "for i in range(p):\n",
    "    print(minuman[i])\n",
    "else :\n",
    "    print(\"elemen sudah habis\")"
   ]
  },
  {
   "cell_type": "markdown",
   "id": "89d1c1fc",
   "metadata": {},
   "source": [
    "# latihan 1"
   ]
  },
  {
   "cell_type": "code",
   "execution_count": 7,
   "id": "88a0a543",
   "metadata": {},
   "outputs": [
    {
     "name": "stdout",
     "output_type": "stream",
     "text": [
      "550000\n"
     ]
    }
   ],
   "source": [
    "list_tagihan = [50000,75000,-150000,125000,300000,-50000,200000]\n",
    "total_tagihan = 0\n",
    "\n",
    "for i in list_tagihan :\n",
    "    total_tagihan = total_tagihan + i \n",
    "    \n",
    "print(total_tagihan)"
   ]
  },
  {
   "cell_type": "markdown",
   "id": "acbf3c26",
   "metadata": {},
   "source": [
    "# while loop"
   ]
  },
  {
   "cell_type": "raw",
   "id": "f0587654",
   "metadata": {},
   "source": [
    "while loop pada python digunakan untuk melakukan iterasi pada  blok kode selama nilai dari test expression adalah true."
   ]
  },
  {
   "cell_type": "markdown",
   "id": "44f9b408",
   "metadata": {},
   "source": [
    "# while loop with else"
   ]
  },
  {
   "cell_type": "raw",
   "id": "c3a6c73b",
   "metadata": {},
   "source": [
    "sama dengan for loop kita juga dapat mengkombinasikan while dengan blok else\n",
    "bagian else akan dieksekusi jika nilai pada test expression pada while loop bernilai false"
   ]
  },
  {
   "cell_type": "markdown",
   "id": "b7c1af14",
   "metadata": {},
   "source": [
    "# example while loop"
   ]
  },
  {
   "cell_type": "code",
   "execution_count": 11,
   "id": "ad95640d",
   "metadata": {},
   "outputs": [
    {
     "name": "stdout",
     "output_type": "stream",
     "text": [
      "55\n"
     ]
    }
   ],
   "source": [
    "# program untuk menjumlahkan semua bilangan asli hingga suku ke-n\n",
    "# jum = 1+2+3+...+n\n",
    "\n",
    "n = 10\n",
    "jumlah = 0 \n",
    "i = 1\n",
    "\n",
    "while i <= n:\n",
    "    jumlah = jumlah + i\n",
    "    i = i+1\n",
    "    \n",
    "print(jumlah)"
   ]
  },
  {
   "cell_type": "markdown",
   "id": "991a481c",
   "metadata": {},
   "source": [
    "# example while loop with else"
   ]
  },
  {
   "cell_type": "code",
   "execution_count": 14,
   "id": "7fb55c3d",
   "metadata": {},
   "outputs": [
    {
     "name": "stdout",
     "output_type": "stream",
     "text": [
      "55\n"
     ]
    }
   ],
   "source": [
    "jum = 0\n",
    "i = 1\n",
    "while i <= n:\n",
    "    jum = jum + i\n",
    "    i = i+1\n",
    "else:\n",
    "    print(jum) # dieksekusi diluar looping"
   ]
  },
  {
   "cell_type": "markdown",
   "id": "b852f5a3",
   "metadata": {},
   "source": [
    "# latihan 2"
   ]
  },
  {
   "cell_type": "code",
   "execution_count": 15,
   "id": "c7c66f8f",
   "metadata": {},
   "outputs": [
    {
     "name": "stdout",
     "output_type": "stream",
     "text": [
      "750000\n"
     ]
    }
   ],
   "source": [
    "tagihan = [50000, 75000, 125000, 300000, 200000]\n",
    "i = 0\n",
    "jumlah_tagihan = len(tagihan)\n",
    "total_tagihan = 0\n",
    "while i < jumlah_tagihan:\n",
    "    if tagihan[i] < 0:\n",
    "        i += 1\n",
    "        continue\n",
    "    total_tagihan += tagihan[i]\n",
    "    i += 1\n",
    "print(total_tagihan)"
   ]
  }
 ],
 "metadata": {
  "kernelspec": {
   "display_name": "Python 3 (ipykernel)",
   "language": "python",
   "name": "python3"
  },
  "language_info": {
   "codemirror_mode": {
    "name": "ipython",
    "version": 3
   },
   "file_extension": ".py",
   "mimetype": "text/x-python",
   "name": "python",
   "nbconvert_exporter": "python",
   "pygments_lexer": "ipython3",
   "version": "3.9.7"
  }
 },
 "nbformat": 4,
 "nbformat_minor": 5
}
