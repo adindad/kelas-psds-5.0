{
 "cells": [
  {
   "cell_type": "markdown",
   "id": "eceeebee",
   "metadata": {},
   "source": [
    "# List"
   ]
  },
  {
   "cell_type": "code",
   "execution_count": 2,
   "id": "5b4d193a",
   "metadata": {},
   "outputs": [
    {
     "name": "stdout",
     "output_type": "stream",
     "text": [
      "<class 'list'>\n"
     ]
    }
   ],
   "source": [
    "#contoh list\n",
    "L1 = [3,4,2,13]\n",
    "\n",
    "print(type(L1))"
   ]
  },
  {
   "cell_type": "code",
   "execution_count": 3,
   "id": "e62de455",
   "metadata": {},
   "outputs": [
    {
     "name": "stdout",
     "output_type": "stream",
     "text": [
      "<class 'list'>\n"
     ]
    }
   ],
   "source": [
    "L2 = [\"a\",\"Python\",3]\n",
    "\n",
    "print(type(L2))"
   ]
  },
  {
   "cell_type": "code",
   "execution_count": 4,
   "id": "5aa8256d",
   "metadata": {},
   "outputs": [
    {
     "name": "stdout",
     "output_type": "stream",
     "text": [
      "[3, 4, 2, 13]\n",
      "['a', 'Python', 3]\n"
     ]
    }
   ],
   "source": [
    "print(L1)\n",
    "print(L2)"
   ]
  },
  {
   "cell_type": "markdown",
   "id": "8b7e5364",
   "metadata": {},
   "source": [
    "# sifat sifat list"
   ]
  },
  {
   "cell_type": "code",
   "execution_count": 5,
   "id": "680e38f7",
   "metadata": {},
   "outputs": [
    {
     "name": "stdout",
     "output_type": "stream",
     "text": [
      "Memanggil list L1 dengan indeks urutan: [3, 4, 2]\n",
      "List L1 setelah diganti elemennya: [3, 2, 2, 13]\n",
      "Sliching list L1: 13\n",
      "Duplikasi pada list L1: [1, 'dua', True, (2+3j), (2+3j)]\n",
      "Data setelah diubah: [1, 'dua', 3, (2+3j)]\n",
      "Data setelah ditambah elemennya: [1, 'dua', True, (2+3j), 20]\n",
      "Data setelah dihapus elemennya: [1, 'dua', True]\n"
     ]
    }
   ],
   "source": [
    "#terurut/ordered\n",
    "print(\"Memanggil list L1 dengan indeks urutan:\", L1[0:3])\n",
    "\n",
    "#bisa diganti\n",
    "L1[1]=2\n",
    "print(\"List L1 setelah diganti elemennya:\", L1)\n",
    "\n",
    "#dapat diindeks\n",
    "print(\"Sliching list L1:\", L1[3])\n",
    "\n",
    "#dapat diizinkan duplikasi\n",
    "L1 = [1,\"dua\",True,2+3j,2+3j]\n",
    "print(\"Duplikasi pada list L1:\", L1)\n",
    "\n",
    "#dapat mengubah data dengan mengganti elemen tertentu\n",
    "L1 = [1,\"dua\",True,2+3j]\n",
    "L1[2]=3\n",
    "print(\"Data setelah diubah:\", L1)\n",
    "\n",
    "#dapat menambahkan elemen baru pada data \n",
    "L1 = [1,\"dua\",True,2+3j]\n",
    "L1.append(20)\n",
    "print(\"Data setelah ditambah elemennya:\", L1)\n",
    "\n",
    "#dapat menghapus elemen pada data\n",
    "L1 = [1,\"dua\",True,2+3j]\n",
    "L1.remove(2+3j)\n",
    "print(\"Data setelah dihapus elemennya:\", L1)"
   ]
  },
  {
   "cell_type": "code",
   "execution_count": 6,
   "id": "7b777dba",
   "metadata": {},
   "outputs": [
    {
     "name": "stdout",
     "output_type": "stream",
     "text": [
      "[1, 'dua', True, (2+3j), 'nanas']\n"
     ]
    }
   ],
   "source": [
    "# menambahkan data menggunakan fungsi extend\n",
    "# (menambahkan elemen baru pada list namun elemen tersebut ditambahkan secara individual)\n",
    "L1 = [1,\"dua\",True,2+3j]\n",
    "L1.extend([\"nanas\"])\n",
    "print(L1)"
   ]
  },
  {
   "cell_type": "code",
   "execution_count": 7,
   "id": "3aa0f3ad",
   "metadata": {},
   "outputs": [
    {
     "name": "stdout",
     "output_type": "stream",
     "text": [
      "[1, 'dua', True, (2+3j), 'n', 'a', 'n', 'a', 's']\n"
     ]
    }
   ],
   "source": [
    "L1 = [1,\"dua\",True,2+3j]\n",
    "L1.extend(\"nanas\")\n",
    "print(L1)"
   ]
  },
  {
   "cell_type": "code",
   "execution_count": 8,
   "id": "8960ab3f",
   "metadata": {},
   "outputs": [
    {
     "name": "stdout",
     "output_type": "stream",
     "text": [
      "[1, 'dua', 5, True, (2+3j)]\n"
     ]
    }
   ],
   "source": [
    "# menambahkan data menggunakan fungsi insert (menambahkan elemen baru di list pada indeks tertentu)\n",
    "L1 = [1,\"dua\",True,2+3j]\n",
    "L1.insert(2, 5)\n",
    "print(L1)"
   ]
  },
  {
   "cell_type": "code",
   "execution_count": 9,
   "id": "ec33acd3",
   "metadata": {},
   "outputs": [
    {
     "name": "stdout",
     "output_type": "stream",
     "text": [
      "[1, True, (2+3j)]\n"
     ]
    }
   ],
   "source": [
    "# menambahkan data menggunakan fungsi pop() (menghapus berdasarkan indeks)\n",
    "L1 = [1,\"dua\",True,2+3j]\n",
    "L1.pop(1)\n",
    "print(L1)"
   ]
  },
  {
   "cell_type": "code",
   "execution_count": 10,
   "id": "f9373421",
   "metadata": {},
   "outputs": [
    {
     "name": "stdout",
     "output_type": "stream",
     "text": [
      "[1, 'dua', True]\n"
     ]
    }
   ],
   "source": [
    "L1 = [1,\"dua\",True,2+3j]\n",
    "L1.pop()\n",
    "print(L1)"
   ]
  },
  {
   "cell_type": "markdown",
   "id": "3eace883",
   "metadata": {},
   "source": [
    "# LATIHAN 1"
   ]
  },
  {
   "cell_type": "markdown",
   "id": "68245f6f",
   "metadata": {},
   "source": [
    "buatlah List kalian sendiri"
   ]
  },
  {
   "cell_type": "code",
   "execution_count": 12,
   "id": "8b8a8100",
   "metadata": {},
   "outputs": [
    {
     "name": "stdout",
     "output_type": "stream",
     "text": [
      "<class 'list'>\n",
      "['elsya', 2.4, False, (12+99j)]\n"
     ]
    }
   ],
   "source": [
    "trauma = [\"elsya\", 2.4, False, 12+99j]\n",
    "print(type(trauma))\n",
    "print(trauma)"
   ]
  },
  {
   "cell_type": "markdown",
   "id": "caaf2e5a",
   "metadata": {},
   "source": [
    "# LATIHAN 2"
   ]
  },
  {
   "cell_type": "markdown",
   "id": "24fc9a46",
   "metadata": {},
   "source": [
    "ganti elemen pada List yang kalian buat"
   ]
  },
  {
   "cell_type": "code",
   "execution_count": 16,
   "id": "678f9e80",
   "metadata": {},
   "outputs": [
    {
     "name": "stdout",
     "output_type": "stream",
     "text": [
      "List trauma setelah diganti elemennya: ['elsya', 2.4, 12, (12+99j)]\n",
      "List trauma + story: ['elsya', 2.4, False, (12+99j), 'story']\n",
      "List trauma setelah menghapus elemen ke 1: ['elsya', False, (12+99j)]\n",
      "List trauma ditambah pake fungsi extend: ['elsya', 2.4, False, (12+99j), 'still']\n",
      "Fungsi extend tanpa kurung siku menjadi: ['elsya', 2.4, False, (12+99j), 'i', 'n', 's', 't', 'a', 'g', 'r', 'a', 'm']\n",
      "Fungsi insert: ['elsya', True, 2.4, False, (12+99j)]\n",
      "Fungsi pop(): ['elsya', 2.4, False]\n"
     ]
    }
   ],
   "source": [
    "trauma = [\"elsya\", 2.4, False, 12+99j]\n",
    "trauma[2]=12\n",
    "print(\"List trauma setelah diganti elemennya:\", trauma)\n",
    "\n",
    "trauma = [\"elsya\", 2.4, False, 12+99j]\n",
    "trauma.append(\"story\")\n",
    "print(\"List trauma + story:\", trauma)\n",
    "\n",
    "trauma = [\"elsya\", 2.4, False, 12+99j]\n",
    "trauma.remove(2.4)\n",
    "print(\"List trauma setelah menghapus elemen ke 1:\", trauma)\n",
    "\n",
    "trauma = [\"elsya\", 2.4, False, 12+99j]\n",
    "trauma.extend([\"still\"])\n",
    "print(\"List trauma ditambah pake fungsi extend:\", trauma)\n",
    "\n",
    "trauma = [\"elsya\", 2.4, False, 12+99j]\n",
    "trauma.extend(\"instagram\")\n",
    "print(\"Fungsi extend tanpa kurung siku menjadi:\", trauma)\n",
    "\n",
    "trauma = [\"elsya\", 2.4, False, 12+99j]\n",
    "trauma.insert(1, True)\n",
    "print(\"Fungsi insert:\", trauma)\n",
    "\n",
    "trauma = [\"elsya\", 2.4, False, 12+99j]\n",
    "trauma.pop()\n",
    "print(\"Fungsi pop():\", trauma)"
   ]
  },
  {
   "cell_type": "markdown",
   "id": "c146f31c",
   "metadata": {},
   "source": [
    "# struktur data tuple"
   ]
  },
  {
   "cell_type": "code",
   "execution_count": 21,
   "id": "f696ee6b",
   "metadata": {},
   "outputs": [
    {
     "name": "stdout",
     "output_type": "stream",
     "text": [
      "ini adalah tuple (1, 'dua', True, (1+2j))\n"
     ]
    }
   ],
   "source": [
    "# contoh tuple\n",
    "T1 = (1, \"dua\", True, 1+2j)\n",
    "print(\"ini adalah tuple\", T1)"
   ]
  },
  {
   "cell_type": "code",
   "execution_count": 22,
   "id": "85e97c08",
   "metadata": {},
   "outputs": [
    {
     "name": "stdout",
     "output_type": "stream",
     "text": [
      "ini adalah tuple (1, 'dua', True, (1+2j))\n"
     ]
    }
   ],
   "source": [
    "# contoh tuple\n",
    "T11 = 1, \"dua\", True, 1+2j\n",
    "print(\"ini adalah tuple\", T1)"
   ]
  },
  {
   "cell_type": "code",
   "execution_count": 23,
   "id": "38056432",
   "metadata": {},
   "outputs": [
    {
     "data": {
      "text/plain": [
       "tuple"
      ]
     },
     "execution_count": 23,
     "metadata": {},
     "output_type": "execute_result"
    }
   ],
   "source": [
    "# menampilkan tipe struktur data\n",
    "type(T1)"
   ]
  },
  {
   "cell_type": "code",
   "execution_count": 24,
   "id": "7803c3cc",
   "metadata": {},
   "outputs": [
    {
     "data": {
      "text/plain": [
       "tuple"
      ]
     },
     "execution_count": 24,
     "metadata": {},
     "output_type": "execute_result"
    }
   ],
   "source": [
    "# menampilkan tipe struktur data\n",
    "type(T11)"
   ]
  },
  {
   "cell_type": "markdown",
   "id": "4151251a",
   "metadata": {},
   "source": [
    "# sifat sifat tuple"
   ]
  },
  {
   "cell_type": "code",
   "execution_count": 25,
   "id": "b4095daf",
   "metadata": {},
   "outputs": [
    {
     "data": {
      "text/plain": [
       "(1, 'dua', True)"
      ]
     },
     "execution_count": 25,
     "metadata": {},
     "output_type": "execute_result"
    }
   ],
   "source": [
    "#terurut\n",
    "T1[0:3]"
   ]
  },
  {
   "cell_type": "code",
   "execution_count": 26,
   "id": "1017908e",
   "metadata": {},
   "outputs": [
    {
     "name": "stdout",
     "output_type": "stream",
     "text": [
      "Elemen kedua dari tuple T1: True\n"
     ]
    }
   ],
   "source": [
    "#dapat diindeks\n",
    "print(\"Elemen kedua dari tuple T1:\", T1[2])"
   ]
  },
  {
   "cell_type": "code",
   "execution_count": 27,
   "id": "9ba7fc22",
   "metadata": {},
   "outputs": [
    {
     "data": {
      "text/plain": [
       "[3, 2.4, True, 2.4]"
      ]
     },
     "execution_count": 27,
     "metadata": {},
     "output_type": "execute_result"
    }
   ],
   "source": [
    "#dapat diizinkan duplikasi\n",
    "T2 = [3,2.4,True,2.4]\n",
    "T2"
   ]
  },
  {
   "cell_type": "markdown",
   "id": "b7c794da",
   "metadata": {},
   "source": [
    "# menggabungkan tuple"
   ]
  },
  {
   "cell_type": "code",
   "execution_count": 28,
   "id": "7ffb3713",
   "metadata": {},
   "outputs": [
    {
     "data": {
      "text/plain": [
       "(1, 'dua', True, (1+2j), 1, 'dua', True, (1+2j))"
      ]
     },
     "execution_count": 28,
     "metadata": {},
     "output_type": "execute_result"
    }
   ],
   "source": [
    "T3 = T1 + T11\n",
    "T3"
   ]
  },
  {
   "cell_type": "markdown",
   "id": "1e057922",
   "metadata": {},
   "source": [
    "# LATIHAN 3"
   ]
  },
  {
   "cell_type": "markdown",
   "id": "db046663",
   "metadata": {},
   "source": [
    "buatlah Tuple mu sendiri"
   ]
  },
  {
   "cell_type": "code",
   "execution_count": 35,
   "id": "f2664410",
   "metadata": {},
   "outputs": [
    {
     "name": "stdout",
     "output_type": "stream",
     "text": [
      "<class 'tuple'>\n",
      "('mario', 12.8, True, (29+12j))\n"
     ]
    }
   ],
   "source": [
    "semata = (\"mario\", 12.8, True, 29+12j)\n",
    "print(type(semata))\n",
    "print(semata)"
   ]
  },
  {
   "cell_type": "code",
   "execution_count": 36,
   "id": "8bae8ae9",
   "metadata": {},
   "outputs": [
    {
     "name": "stdout",
     "output_type": "stream",
     "text": [
      "<class 'tuple'>\n",
      "('klau', 3.72, False, (8+9j))\n"
     ]
    }
   ],
   "source": [
    "karenamu = \"klau\", 3.72, False, 8+9j\n",
    "print(type(karenamu))\n",
    "print(karenamu)"
   ]
  },
  {
   "cell_type": "markdown",
   "id": "c9411dd8",
   "metadata": {},
   "source": [
    "# LATIHAN 4"
   ]
  },
  {
   "cell_type": "markdown",
   "id": "a7639410",
   "metadata": {},
   "source": [
    "buatlah Tuple kedua lalu gabungkan 2 Tuple yang telah kamu buat"
   ]
  },
  {
   "cell_type": "code",
   "execution_count": 37,
   "id": "b8b98539",
   "metadata": {},
   "outputs": [
    {
     "data": {
      "text/plain": [
       "('mario', 12.8, True, (29+12j), 'klau', 3.72, False, (8+9j))"
      ]
     },
     "execution_count": 37,
     "metadata": {},
     "output_type": "execute_result"
    }
   ],
   "source": [
    "song = semata + karenamu\n",
    "song"
   ]
  }
 ],
 "metadata": {
  "kernelspec": {
   "display_name": "Python 3 (ipykernel)",
   "language": "python",
   "name": "python3"
  },
  "language_info": {
   "codemirror_mode": {
    "name": "ipython",
    "version": 3
   },
   "file_extension": ".py",
   "mimetype": "text/x-python",
   "name": "python",
   "nbconvert_exporter": "python",
   "pygments_lexer": "ipython3",
   "version": "3.9.7"
  }
 },
 "nbformat": 4,
 "nbformat_minor": 5
}
