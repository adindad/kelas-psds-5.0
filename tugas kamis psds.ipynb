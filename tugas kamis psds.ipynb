{
 "cells": [
  {
   "cell_type": "markdown",
   "id": "58c1e16b",
   "metadata": {},
   "source": [
    "# pengenalan python"
   ]
  },
  {
   "cell_type": "markdown",
   "id": "633978e4",
   "metadata": {},
   "source": [
    "python adalah bahasa pemrograman tingkat tinggi dengan dynamic semantics, bersifat objek oriented, dan interpretatif. bahasa pemrograman ini fokus dikembangkan pada keterbacaan bahasa pemrograman"
   ]
  },
  {
   "cell_type": "markdown",
   "id": "40cb5f49",
   "metadata": {},
   "source": [
    "1. bahasa pemrograman tingkat tinggi (high level programming) artinya sintaks kode lebih mudah ditafsirkan oleh manusia\n",
    "2. interpretatif ini artinya bahasa ini memerlukan intrepeter atau penerjemah. ini memungkinkan kita untuk menggunakan bahasa yang lebih mudah kita pahami\n",
    "3. object oriented ini berarti bahwa bahasa pemrograman ini berorientasi kepada objek. Hal ini membuat python lebih mudah untuk dikembangkan.\n",
    "4. Dynamic Semantic Phyton secara otomatis akan menyesuaikan tipe dari suatu variabel berdasarkan inputnya."
   ]
  },
  {
   "cell_type": "markdown",
   "id": "c603407d",
   "metadata": {},
   "source": [
    "# mengapa phyton?"
   ]
  },
  {
   "cell_type": "markdown",
   "id": "2be0798f",
   "metadata": {},
   "source": [
    "1. mudah dipahami \n",
    "2. grafis & open source\n",
    "3. dinamis\n",
    "4. memiliki library terlengkap untuk data sains"
   ]
  },
  {
   "cell_type": "markdown",
   "id": "d07f73ed",
   "metadata": {},
   "source": [
    "# struktur program pada python"
   ]
  },
  {
   "cell_type": "markdown",
   "id": "da5fb9c8",
   "metadata": {},
   "source": [
    "python pada umumnya terdiri dari :\n",
    "1. statement\n",
    "2. variables\n",
    "3. literals : simbol simbol yang dapat kita gunakan untuk mengisi suatu variable.\n",
    "4. operators : simbol simbol yang dapat digunakan untuk mengubah nilai dari satu variable dengan melibatkan satu atau lebih variable dan literal\n",
    "5. reserved words : kumpulan kata-kata yang memiliki makna khusus dalam bahasa pemrograman Phyton. Kata false, return, dan for merupakan contoh dari reserved words\n",
    "6. whitespace : pada bahasa python, spasi dan tab memiliki makna khusus intuk menandai serangkaian blok dalam kode python\n",
    "7. comments : sekumpulan teks yang dituliskan di dalam sebuah program yang tidak akan mempengaruhi hasil dari sebuah pemrograman.\n",
    "    terdapat dua jenis comments di dalam python, yaitu : \n",
    "        a. single line comment (comments dalam satu baris)\n",
    "        b. multi line comment (comments dalam beberapa baris)"
   ]
  },
  {
   "cell_type": "markdown",
   "id": "c22f846f",
   "metadata": {},
   "source": [
    "CONTOH :\n",
    "1. statement"
   ]
  },
  {
   "cell_type": "code",
   "execution_count": 1,
   "id": "12b52c1f",
   "metadata": {},
   "outputs": [
    {
     "name": "stdout",
     "output_type": "stream",
     "text": [
      "belajar Phyton menyenangkan\n",
      "halo dunia\n"
     ]
    }
   ],
   "source": [
    "print (\"belajar Phyton menyenangkan\")\n",
    "print (\"halo dunia\")"
   ]
  },
  {
   "cell_type": "markdown",
   "id": "2163c071",
   "metadata": {},
   "source": [
    "2. variables"
   ]
  },
  {
   "cell_type": "code",
   "execution_count": 2,
   "id": "e8a26d0f",
   "metadata": {},
   "outputs": [],
   "source": [
    "bilangan1 = 5\n",
    "bilangan2 = 10\n",
    "kalimat = \"pejuang data 3\""
   ]
  },
  {
   "cell_type": "markdown",
   "id": "e8d26b9a",
   "metadata": {},
   "source": [
    "4. operators "
   ]
  },
  {
   "cell_type": "code",
   "execution_count": 3,
   "id": "35cd3937",
   "metadata": {},
   "outputs": [
    {
     "data": {
      "text/plain": [
       "15"
      ]
     },
     "execution_count": 3,
     "metadata": {},
     "output_type": "execute_result"
    }
   ],
   "source": [
    "bilangan1 + bilangan2"
   ]
  },
  {
   "cell_type": "markdown",
   "id": "249ed3a5",
   "metadata": {},
   "source": [
    "7. a. single line comment"
   ]
  },
  {
   "cell_type": "code",
   "execution_count": 4,
   "id": "a7c8dd59",
   "metadata": {},
   "outputs": [
    {
     "name": "stdout",
     "output_type": "stream",
     "text": [
      "belajar Phyton\n"
     ]
    }
   ],
   "source": [
    "# Ini adalah comment\n",
    "print(\"belajar Phyton\")"
   ]
  },
  {
   "cell_type": "markdown",
   "id": "97c8b741",
   "metadata": {},
   "source": [
    "7. b. multi line comment"
   ]
  },
  {
   "cell_type": "code",
   "execution_count": 8,
   "id": "cabe6116",
   "metadata": {},
   "outputs": [
    {
     "name": "stdout",
     "output_type": "stream",
     "text": [
      "belajar phyton menyenangkan\n"
     ]
    }
   ],
   "source": [
    "''' \n",
    "ini adalah komentar panjang\n",
    "bisa digunakan untuk memberikan penjelasan \n",
    "panjang pada sell kode phyton,\n",
    "misal dokumentasi program, \n",
    "spesifikasi input output atau lainnya\n",
    "'''\n",
    "\n",
    "print('belajar phyton menyenangkan')"
   ]
  }
 ],
 "metadata": {
  "kernelspec": {
   "display_name": "Python 3 (ipykernel)",
   "language": "python",
   "name": "python3"
  },
  "language_info": {
   "codemirror_mode": {
    "name": "ipython",
    "version": 3
   },
   "file_extension": ".py",
   "mimetype": "text/x-python",
   "name": "python",
   "nbconvert_exporter": "python",
   "pygments_lexer": "ipython3",
   "version": "3.9.7"
  }
 },
 "nbformat": 4,
 "nbformat_minor": 5
}
